{
 "cells": [
  {
   "cell_type": "code",
   "execution_count": 1,
   "id": "f63f38e9-0018-4025-9f07-29771f351d42",
   "metadata": {},
   "outputs": [
    {
     "name": "stderr",
     "output_type": "stream",
     "text": [
      "Setting default log level to \"WARN\".\n",
      "To adjust logging level use sc.setLogLevel(newLevel). For SparkR, use setLogLevel(newLevel).\n",
      "25/04/06 05:52:59 WARN NativeCodeLoader: Unable to load native-hadoop library for your platform... using builtin-java classes where applicable\n"
     ]
    }
   ],
   "source": [
    "from pyspark.sql import SparkSession\n",
    "from pyspark.sql.functions import col, explode, array, when, count, lit, coalesce\n",
    "\n",
    "\n",
    "spark = SparkSession.builder \\\n",
    "    .appName(\"Sliver Process\") \\\n",
    "    .master(\"spark://spark-master:7077\") \\\n",
    "    .config(\"spark.hadoop.fs.defaultFS\", \"hdfs://namenode:9870\") \\\n",
    "    .getOrCreate()"
   ]
  },
  {
   "cell_type": "code",
   "execution_count": 17,
   "id": "96b4b309-4c3c-4ffb-ae49-94600bd6bf8e",
   "metadata": {},
   "outputs": [],
   "source": [
    "from pyspark.sql.types import StructType, StructField, StringType, IntegerType, BooleanType, FloatType, ArrayType\n",
    "\n",
    "schema = StructType([\n",
    "    StructField(\"movie_results\", ArrayType(StructType([\n",
    "        StructField(\"adult\", BooleanType(), True),\n",
    "        StructField(\"backdrop_path\", StringType(), True),\n",
    "        StructField(\"id\", IntegerType(), True),\n",
    "        StructField(\"title\", StringType(), True),\n",
    "        StructField(\"original_language\", StringType(), True),\n",
    "        StructField(\"original_title\", StringType(), True),\n",
    "        StructField(\"overview\", StringType(), True),\n",
    "        StructField(\"poster_path\", StringType(), True),\n",
    "        StructField(\"media_type\", StringType(), True),\n",
    "        StructField(\"genre_ids\", ArrayType(IntegerType(), True), True),\n",
    "        StructField(\"popularity\", FloatType(), True),\n",
    "        StructField(\"release_date\", StringType(), True),\n",
    "        StructField(\"video\", BooleanType(), True),\n",
    "        StructField(\"vote_average\", FloatType(), True),\n",
    "        StructField(\"vote_count\", IntegerType(), True)\n",
    "    ]), True)),\n",
    "    StructField(\"person_results\", ArrayType(StructType([]), True), True),\n",
    "    StructField(\"tv_results\", ArrayType(StructType([]), True), True),\n",
    "    StructField(\"tv_episode_results\", ArrayType(StructType([]), True), True),\n",
    "    StructField(\"tv_season_results\", ArrayType(StructType([]), True), True)\n",
    "])\n",
    "df = spark.read.parquet(\"hdfs://namenode:8020/movies_data/bronze.parquet\",schema=schema)"
   ]
  },
  {
   "cell_type": "code",
   "execution_count": 19,
   "id": "3d0ede6e-846c-47b3-bf6d-57e7c20e5743",
   "metadata": {},
   "outputs": [],
   "source": [
    "rdd = df.rdd"
   ]
  },
  {
   "cell_type": "code",
   "execution_count": 22,
   "id": "fc0ab4e9-2a18-4ab0-98a8-d587ea2b5369",
   "metadata": {},
   "outputs": [
    {
     "ename": "AttributeError",
     "evalue": "'RDD' object has no attribute 'show'",
     "output_type": "error",
     "traceback": [
      "\u001b[0;31m---------------------------------------------------------------------------\u001b[0m",
      "\u001b[0;31mAttributeError\u001b[0m                            Traceback (most recent call last)",
      "Cell \u001b[0;32mIn[22], line 1\u001b[0m\n\u001b[0;32m----> 1\u001b[0m \u001b[43mrdd\u001b[49m\u001b[38;5;241;43m.\u001b[39;49m\u001b[43mshow\u001b[49m()\n",
      "\u001b[0;31mAttributeError\u001b[0m: 'RDD' object has no attribute 'show'"
     ]
    }
   ],
   "source": [
    "rdd.show()"
   ]
  }
 ],
 "metadata": {
  "kernelspec": {
   "display_name": "Python 3 (ipykernel)",
   "language": "python",
   "name": "python3"
  },
  "language_info": {
   "codemirror_mode": {
    "name": "ipython",
    "version": 3
   },
   "file_extension": ".py",
   "mimetype": "text/x-python",
   "name": "python",
   "nbconvert_exporter": "python",
   "pygments_lexer": "ipython3",
   "version": "3.11.6"
  }
 },
 "nbformat": 4,
 "nbformat_minor": 5
}
