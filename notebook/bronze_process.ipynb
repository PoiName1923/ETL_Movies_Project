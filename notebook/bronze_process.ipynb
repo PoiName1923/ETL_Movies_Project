{
 "cells": [
  {
   "cell_type": "code",
   "execution_count": 10,
   "id": "e5cebcd9",
   "metadata": {},
   "outputs": [],
   "source": [
    "from pyspark.sql import SparkSession\n",
    "spark = SparkSession.builder \\\n",
    "    .appName(\"Bronze Process\") \\\n",
    "    .master(\"spark://spark-master:7077\") \\\n",
    "    .config(\"spark.jars.packages\", \"org.mongodb.spark:mongo-spark-connector_2.12:10.4.1\") \\\n",
    "    .config(\"spark.hadoop.fs.defaultFS\", \"hdfs://namenode:9870\") \\\n",
    "    .getOrCreate()"
   ]
  },
  {
   "cell_type": "markdown",
   "id": "db3a9eb4",
   "metadata": {},
   "source": [
    "## Truy xuất dữ liệu từ mongodb để tìm ra danh sách các id"
   ]
  },
  {
   "cell_type": "code",
   "execution_count": 11,
   "id": "22eb6950-ef9c-4d09-ac63-1ccab85998d5",
   "metadata": {},
   "outputs": [],
   "source": [
    "username = 'ndtien'\n",
    "password = 'ndtien'\n",
    "host     = 'mongodb'\n",
    "port     = '27017'\n",
    "db       = 'movies_db'\n",
    "collection = 'movies_name'\n",
    "\n",
    "MONGO_URL = f\"mongodb://{username}:{password}@{host}:{port}/{db}.{collection}?authSource=admin\""
   ]
  },
  {
   "cell_type": "code",
   "execution_count": 12,
   "id": "d2c248b1-890b-4d86-bb4b-391125a08ba6",
   "metadata": {},
   "outputs": [],
   "source": [
    "movie_id_df = spark.read\\\n",
    "            .format(\"mongodb\")\\\n",
    "            .option(\"spark.mongodb.read.connection.uri\",MONGO_URL)\\\n",
    "            .option('header', 'true')\\\n",
    "            .load()"
   ]
  },
  {
   "cell_type": "code",
   "execution_count": 13,
   "id": "b182a125-d5ec-4511-b933-b7ba3813817c",
   "metadata": {},
   "outputs": [
    {
     "name": "stderr",
     "output_type": "stream",
     "text": [
      "                                                                                \r"
     ]
    }
   ],
   "source": [
    "list_id = movie_id_df.select('id').rdd.flatMap(lambda x: x).collect()"
   ]
  },
  {
   "cell_type": "code",
   "execution_count": 14,
   "id": "1f48ea10",
   "metadata": {},
   "outputs": [],
   "source": [
    "import requests\n",
    "API_KEY = \"2d6e1b290dabf74f65b84431677db2b8\"\n",
    "GET_URL = \"https://api.themoviedb.org/3/movie\"\n",
    "\n",
    "\n",
    "def get_movie_data(API_KEY, GET_URL, list_ids):\n",
    "    list_movies = []\n",
    "    for movie_id in list_ids:\n",
    "        url = f'{GET_URL}/{movie_id}?api_key={API_KEY}'\n",
    "        response = requests.get(url)\n",
    "        data = response.json()\n",
    "        list_movies.append(data)\n",
    "    return list_movies"
   ]
  },
  {
   "cell_type": "code",
   "execution_count": 15,
   "id": "dfc93c7f-40dd-4067-8b6b-dc75b70a7994",
   "metadata": {},
   "outputs": [],
   "source": [
    "movie_data = get_movie_data(API_KEY=API_KEY, GET_URL=GET_URL, list_ids=list_id)"
   ]
  },
  {
   "cell_type": "code",
   "execution_count": 16,
   "id": "293d8f3f",
   "metadata": {},
   "outputs": [],
   "source": [
    "movie_data = spark.createDataFrame(movie_data)"
   ]
  },
  {
   "cell_type": "code",
   "execution_count": 17,
   "id": "ed8625e2",
   "metadata": {},
   "outputs": [
    {
     "name": "stderr",
     "output_type": "stream",
     "text": [
      "                                                                                \r"
     ]
    }
   ],
   "source": [
    "movie_data.write.mode(\"overwrite\").format(\"parquet\").save(\"hdfs://namenode:8020/movies_data/bronze.parquet\")"
   ]
  },
  {
   "cell_type": "code",
   "execution_count": 18,
   "id": "066fd81d-9417-493c-9e22-0f46ae4b2b6a",
   "metadata": {},
   "outputs": [],
   "source": [
    "spark.stop()"
   ]
  }
 ],
 "metadata": {
  "kernelspec": {
   "display_name": "Python 3 (ipykernel)",
   "language": "python",
   "name": "python3"
  }
 },
 "nbformat": 4,
 "nbformat_minor": 5
}
