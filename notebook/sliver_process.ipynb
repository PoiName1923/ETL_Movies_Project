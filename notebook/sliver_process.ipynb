{
 "cells": [
  {
   "cell_type": "code",
   "execution_count": 18,
   "id": "f63f38e9-0018-4025-9f07-29771f351d42",
   "metadata": {},
   "outputs": [],
   "source": [
    "from pyspark.sql import SparkSession\n",
    "from pyspark.sql.functions import col, explode, array, when, count, lit, coalesce , isnull, array_contains\n",
    "\n",
    "\n",
    "spark = SparkSession.builder \\\n",
    "    .appName(\"Sliver Process\") \\\n",
    "    .master(\"spark://spark-master:7077\") \\\n",
    "    .config(\"spark.hadoop.fs.defaultFS\", \"hdfs://namenode:9870\") \\\n",
    "    .getOrCreate()"
   ]
  },
  {
   "cell_type": "code",
   "execution_count": 19,
   "id": "96b4b309-4c3c-4ffb-ae49-94600bd6bf8e",
   "metadata": {},
   "outputs": [
    {
     "name": "stderr",
     "output_type": "stream",
     "text": [
      "                                                                                \r"
     ]
    }
   ],
   "source": [
    "from pyspark.sql.types import StructType, StructField, StringType, IntegerType, BooleanType, FloatType, ArrayType\n",
    "\n",
    "schema = StructType([\n",
    "    StructField(\"movie_results\", ArrayType(StructType([\n",
    "        StructField(\"adult\", BooleanType(), True),\n",
    "        StructField(\"backdrop_path\", StringType(), True),\n",
    "        StructField(\"id\", IntegerType(), True),\n",
    "        StructField(\"title\", StringType(), True),\n",
    "        StructField(\"original_language\", StringType(), True),\n",
    "        StructField(\"original_title\", StringType(), True),\n",
    "        StructField(\"overview\", StringType(), True),\n",
    "        StructField(\"poster_path\", StringType(), True),\n",
    "        StructField(\"media_type\", StringType(), True),\n",
    "        StructField(\"genre_ids\", ArrayType(IntegerType(), True), True),\n",
    "        StructField(\"popularity\", FloatType(), True),\n",
    "        StructField(\"release_date\", StringType(), True),\n",
    "        StructField(\"video\", BooleanType(), True),\n",
    "        StructField(\"vote_average\", FloatType(), True),\n",
    "        StructField(\"vote_count\", IntegerType(), True)\n",
    "    ]), True)),\n",
    "    StructField(\"person_results\", ArrayType(StructType([]), True), True),\n",
    "    StructField(\"tv_results\", ArrayType(StructType([]), True), True),\n",
    "    StructField(\"tv_episode_results\", ArrayType(StructType([]), True), True),\n",
    "    StructField(\"tv_season_results\", ArrayType(StructType([]), True), True)\n",
    "])\n",
    "df = spark.read.parquet(\"hdfs://namenode:8020/movies_data/bronze.parquet\",schema=schema)"
   ]
  },
  {
   "cell_type": "markdown",
   "id": "45d5ee04",
   "metadata": {},
   "source": [
    "#### Xử lý các giá trị null"
   ]
  },
  {
   "cell_type": "code",
   "execution_count": 20,
   "id": "af615896",
   "metadata": {},
   "outputs": [
    {
     "name": "stdout",
     "output_type": "stream",
     "text": [
      "root\n",
      " |-- adult: boolean (nullable = true)\n",
      " |-- backdrop_path: string (nullable = true)\n",
      " |-- belongs_to_collection: map (nullable = true)\n",
      " |    |-- key: string\n",
      " |    |-- value: long (valueContainsNull = true)\n",
      " |-- budget: long (nullable = true)\n",
      " |-- genres: array (nullable = true)\n",
      " |    |-- element: map (containsNull = true)\n",
      " |    |    |-- key: string\n",
      " |    |    |-- value: long (valueContainsNull = true)\n",
      " |-- homepage: string (nullable = true)\n",
      " |-- id: long (nullable = true)\n",
      " |-- imdb_id: string (nullable = true)\n",
      " |-- origin_country: array (nullable = true)\n",
      " |    |-- element: string (containsNull = true)\n",
      " |-- original_language: string (nullable = true)\n",
      " |-- original_title: string (nullable = true)\n",
      " |-- overview: string (nullable = true)\n",
      " |-- popularity: double (nullable = true)\n",
      " |-- poster_path: string (nullable = true)\n",
      " |-- production_companies: array (nullable = true)\n",
      " |    |-- element: map (containsNull = true)\n",
      " |    |    |-- key: string\n",
      " |    |    |-- value: long (valueContainsNull = true)\n",
      " |-- production_countries: array (nullable = true)\n",
      " |    |-- element: map (containsNull = true)\n",
      " |    |    |-- key: string\n",
      " |    |    |-- value: string (valueContainsNull = true)\n",
      " |-- release_date: string (nullable = true)\n",
      " |-- revenue: long (nullable = true)\n",
      " |-- runtime: long (nullable = true)\n",
      " |-- spoken_languages: array (nullable = true)\n",
      " |    |-- element: map (containsNull = true)\n",
      " |    |    |-- key: string\n",
      " |    |    |-- value: string (valueContainsNull = true)\n",
      " |-- status: string (nullable = true)\n",
      " |-- tagline: string (nullable = true)\n",
      " |-- title: string (nullable = true)\n",
      " |-- video: boolean (nullable = true)\n",
      " |-- vote_average: double (nullable = true)\n",
      " |-- vote_count: long (nullable = true)\n",
      "\n"
     ]
    }
   ],
   "source": [
    "df.printSchema()"
   ]
  },
  {
   "cell_type": "code",
   "execution_count": 21,
   "id": "19dc6d19",
   "metadata": {},
   "outputs": [],
   "source": [
    "# Tạo DataFrame cleaned_df từ df gốc\n",
    "cleaned_df = df.withColumn(\n",
    "    \"backdrop_path\",\n",
    "    when(col(\"backdrop_path\").isNull(), \"default_backdrop.jpg\").otherwise(col(\"backdrop_path\"))\n",
    ").withColumn(\n",
    "    \"overview\",\n",
    "    when(col(\"overview\").isNull(), \"No overview available\").otherwise(col(\"overview\"))\n",
    ").withColumn(\n",
    "    \"poster_path\",\n",
    "    when(col(\"poster_path\").isNull(), \"default_poster.jpg\").otherwise(col(\"poster_path\"))\n",
    ").withColumn(\n",
    "    \"homepage\",\n",
    "    when(col(\"homepage\").isNull(), \"No homepage\").otherwise(col(\"homepage\"))\n",
    ")"
   ]
  },
  {
   "cell_type": "code",
   "execution_count": 22,
   "id": "e2b06636",
   "metadata": {},
   "outputs": [],
   "source": [
    "# Thay thế NULL bằng 0 cho các cột số\n",
    "numeric_cols = [\"budget\", \"popularity\", \"vote_count\", \"vote_average\", \"runtime\"]\n",
    "for col_name in numeric_cols:\n",
    "    cleaned_df = cleaned_df.withColumn(\n",
    "        col_name,\n",
    "        when(col(col_name).isNull(), 0).otherwise(col(col_name))\n",
    "    )"
   ]
  },
  {
   "cell_type": "code",
   "execution_count": 23,
   "id": "9bb034c8",
   "metadata": {},
   "outputs": [],
   "source": [
    "# Thay thế NULL bằng False cho các cột boolean\n",
    "boolean_cols = [\"adult\", \"video\"]\n",
    "for col_name in boolean_cols:\n",
    "    cleaned_df = cleaned_df.withColumn(\n",
    "        col_name,\n",
    "        when(col(col_name).isNull(), False).otherwise(col(col_name))\n",
    "    )"
   ]
  },
  {
   "cell_type": "code",
   "execution_count": 24,
   "id": "6bd9c014",
   "metadata": {},
   "outputs": [],
   "source": [
    "# Xử lý các cột mảng\n",
    "array_cols = [\"genres\", \"origin_country\", \"production_companies\", \"spoken_languages\"]\n",
    "for col_name in array_cols:\n",
    "    cleaned_df = cleaned_df.withColumn(\n",
    "        col_name,\n",
    "        when(col(col_name).isNull(), array()).otherwise(col(col_name))\n",
    "    )"
   ]
  },
  {
   "cell_type": "code",
   "execution_count": 25,
   "id": "22938e82",
   "metadata": {},
   "outputs": [],
   "source": [
    "from pyspark.sql.functions import create_map, lit\n",
    "\n",
    "cleaned_df = cleaned_df.withColumn(\n",
    "    \"belongs_to_collection\",\n",
    "    when(col(\"belongs_to_collection\").isNull(), \n",
    "         create_map(lit(\"id\"), lit(None).cast(\"long\"), lit(\"name\"), lit(None).cast(\"string\")))\n",
    "    .otherwise(col(\"belongs_to_collection\"))\n",
    ")"
   ]
  },
  {
   "cell_type": "code",
   "execution_count": 26,
   "id": "c54f901e",
   "metadata": {},
   "outputs": [],
   "source": [
    "# Xử lý release_date\n",
    "cleaned_df = cleaned_df.withColumn(\n",
    "    \"release_date\",\n",
    "    when(col(\"release_date\").isNull(), \"1900-01-01\").otherwise(col(\"release_date\"))\n",
    ")\n",
    "\n",
    "# Xử lý tagline\n",
    "cleaned_df = cleaned_df.withColumn(\n",
    "    \"tagline\",\n",
    "    when(col(\"tagline\").isNull(), \"No tagline\").otherwise(col(\"tagline\"))\n",
    ")\n",
    "\n",
    "# Xử lý imdb_id\n",
    "cleaned_df = cleaned_df.withColumn(\n",
    "    \"imdb_id\",\n",
    "    when(col(\"imdb_id\").isNull(), \"tt0000000\").otherwise(col(\"imdb_id\"))\n",
    ")"
   ]
  },
  {
   "cell_type": "code",
   "execution_count": 27,
   "id": "4686f52f",
   "metadata": {},
   "outputs": [
    {
     "name": "stderr",
     "output_type": "stream",
     "text": [
      "[Stage 1:>                                                          (0 + 1) / 1]\r"
     ]
    },
    {
     "name": "stdout",
     "output_type": "stream",
     "text": [
      "+-----+--------------------+---------------------+---------+--------------------+--------------------+-------+----------+--------------+-----------------+--------------------+--------------------+----------+--------------------+--------------------+--------------------+------------+----------+-------+--------------------+--------+--------------------+--------------------+-----+------------+----------+\n",
      "|adult|       backdrop_path|belongs_to_collection|   budget|              genres|            homepage|     id|   imdb_id|origin_country|original_language|      original_title|            overview|popularity|         poster_path|production_companies|production_countries|release_date|   revenue|runtime|    spoken_languages|  status|             tagline|               title|video|vote_average|vote_count|\n",
      "+-----+--------------------+---------------------+---------+--------------------+--------------------+-------+----------+--------------+-----------------+--------------------+--------------------+----------+--------------------+--------------------+--------------------+------------+----------+-------+--------------------+--------+--------------------+--------------------+-----+------------+----------+\n",
      "|false|/2Nti3gYAX513wvhp...| {id -> NULL, name...|150000000|[{name -> NULL, i...|https://www.minec...| 950387| tt3566834|          [US]|               en|   A Minecraft Movie|Four misfits find...|  992.0749|/yFHHfHcUgGAxziP1...|[{name -> NULL, i...|[{name -> Sweden,...|  2025-03-31| 301000000|    101|[{name -> English...|Released|Be there and be s...|   A Minecraft Movie|false|        6.01|       246|\n",
      "|false|/is9bmV6uYXu7LjZG...| {id -> NULL, name...|        0|[{name -> NULL, i...|https://www.amazo...|1229730|tt35683795|          [FR]|               fr|          Carjackers|By day, they're i...|  369.9575|/wbkPMTz2vVai7Ujy...|[{name -> NULL, i...|[{name -> France,...|  2025-03-27|         0|     97|[{name -> Françai...|Released|                    |          Carjackers|false|       6.199|        73|\n",
      "|false|/xBrx6O1RIhjtWmVt...| {id -> NULL, name...| 40000000|[{name -> NULL, i...|https://www.amazo...|1197306| tt9150192|      [GB, US]|               en|       A Working Man|Levon Cade left b...|  324.6239|/6FRFIogh3zFnVWn7...|[{name -> NULL, i...|[{name -> United ...|  2025-03-26|  44417000|    116|[{name -> English...|Released|Human traffickers...|       A Working Man|false|       6.493|       147|\n",
      "|false|/gsQJOfeW45KLiQeE...| {id -> NULL, name...|        0|[{name -> NULL, i...|                    |1125899|tt27812086|          [GB]|               en|             Cleaner|When a group of r...|  332.8452|/mwzDApMZAGeYCEVj...|[{name -> NULL, i...|[{name -> United ...|  2025-02-19|         0|     96|[{name -> English...|Released|The stakes are a ...|             Cleaner|false|       6.503|       169|\n",
      "|false|/8eifdha9GQeZAkex...| {backdrop_path ->...|180000000|[{name -> NULL, i...|https://www.marve...| 822119|tt14513804|          [US]|               en|Captain America: ...|After meeting wit...|  313.6419|/pzIddUEMWhWzfvLI...|[{name -> NULL, i...|[{name -> United ...|  2025-02-12| 411409721|    119|[{name -> English...|Released|The future favors...|Captain America: ...|false|       6.086|      1221|\n",
      "|false|/lqHt4icP1GTaNBeV...| {id -> NULL, name...|  9895000|[{name -> NULL, i...|                    |1195430|tt27852049|          [IN]|               hi|                देवा|Dev Ambre, a ruth...|  341.0237|/4wKpglgZYMYpISMd...|[{name -> NULL, i...|[{name -> India, ...|  2025-01-31|         0|    155|[{name -> हिन्दी,...|Released|                    |                Deva|false|       3.231|        13|\n",
      "|false|/qiVrapzgrDO7c6yQ...| {id -> NULL, name...|        0|[{name -> NULL, i...|                    |1252309|tt31723358|          [ES]|               es|Pídeme lo que qui...|After his father'...|  264.0167|/76qnVxU2rPdVvipB...|[{name -> NULL, i...|[{name -> Spain, ...|  2024-11-29|         0|      0|[{name -> Español...|Released|                    |Ask Me What You Want|false|       5.686|       118|\n",
      "|false|/9OO6I25MHhCDd0Xw...| {id -> NULL, name...|        0|[{name -> NULL, i...|                    |1261050|tt32887283|          [DK]|               da|          De lydløse|In 2008, a group ...|  241.3008|/7NLY1jNwtZX1yVzw...|[{name -> NULL, i...|[{name -> Denmark...|  2024-10-31|         0|    110|[{name -> English...|Released|The largest heist...|      The Quiet Ones|false|       4.643|        28|\n",
      "|false|/nhx0ttmAS2w8e6hy...| {id -> NULL, name...|   250000|[{name -> NULL, i...|https://www.itnfi...|1020414|tt21955520|          [GB]|               en|Peter Pan's Never...|Wendy Darling str...|  243.0424|/mOR1Ks0EcXocwMV4...|[{name -> NULL, i...|[{name -> United ...|  2025-01-13|    315648|     89|[{name -> English...|Released|He's every parent...|Peter Pan's Never...|false|         5.1|        41|\n",
      "|false|/ibF5XVxTzf1ayzZr...| {id -> NULL, name...|        0|[{name -> NULL, i...|                    |1373723|tt32044730|          [US]|               en|    The Codes of War|War stories about...|  225.1639|/oXeiQAfRK90pxxhP...|                  []|                  []|  2025-03-20|         0|     92|[{name -> English...|Released|                    |    The Codes of War|false|       5.959|        37|\n",
      "|false|/m2mzlsJjE3UAqeUB...| {id -> NULL, name...|        0|[{name -> NULL, i...|                    |1165067|tt27949946|  [CA, US, GB]|               en|        Cosmic Chaos|Battles in virtua...|  223.7408|/mClzWv7gBqgXfjZX...|[{name -> NULL, i...|                  []|  2023-08-03|         0|      0|[{name -> English...|Released|In space... there...|        Cosmic Chaos|false|       5.703|        37|\n",
      "|false|/AlpDRp3Qaf2JvlQD...| {id -> NULL, name...|        0|[{name -> NULL, i...|                    |1212855|tt13652286|      [US, GB]|               en|     Fight or Flight|A mercenary takes...|   222.734|/x4nWnfgJvL045rcU...|[{name -> NULL, i...|[{name -> United ...|  2025-04-03|         0|    102|[{name -> English...|Released|This flight goes ...|     Fight or Flight|false|       4.068|        22|\n",
      "|false|/zo8CIjJ2nfNOevqN...| {backdrop_path ->...|150000000|[{name -> NULL, i...|https://movies.di...|1241982|tt13622970|          [US]|               en|             Moana 2|After receiving a...|  194.7462|/aLVkiINlIeCkcZIz...|[{name -> NULL, i...|[{name -> Canada,...|  2024-11-21|1059544057|     99|[{name -> English...|Released|The ocean is call...|             Moana 2|false|       7.082|      2155|\n",
      "|false|/1w8kutrRucTd3wlY...| {backdrop_path ->...|200000000|[{name -> NULL, i...|https://movies.di...| 762509|tt13186482|          [US]|               en|Mufasa: The Lion ...|Mufasa, a cub los...|  188.1653|/lurEK87kukWNaHd0...|[{name -> NULL, i...|[{name -> United ...|  2024-12-18| 721046090|    118|[{name -> English...|Released|The story of an o...|Mufasa: The Lion ...|false|       7.415|      1880|\n",
      "|false|/wi2CEFSyoxoBWdFe...| {id -> NULL, name...| 50000000|[{name -> NULL, i...|https://www.focus...|1233575|tt30988739|          [US]|               en|           Black Bag|When intelligence...|  182.4999|/hHPovtU4b96LHcoe...|[{name -> NULL, i...|[{name -> United ...|  2025-03-12|  34985600|     94|[{name -> English...|Released|It takes a spy to...|           Black Bag|false|       6.378|       263|\n",
      "|false|/qUc0Hol3eP74dbW4...| {id -> NULL, name...|118000000|[{name -> NULL, i...|https://www.micke...| 696506|tt12299608|      [GB, US]|               en|           Mickey 17|Unlikely hero Mic...|  228.6013|/edKpE9B5qN3e559O...|[{name -> NULL, i...|[{name -> United ...|  2025-02-28| 122908117|    137|[{name -> English...|Released|He's dying to sav...|           Mickey 17|false|         6.9|      1183|\n",
      "|false|/sulUXRukzh7WSK34...| {id -> NULL, name...|        0|[{name -> NULL, i...|https://www.netfl...|1254786| tt2172954|          [US]|               en|       The Life List|When her mother s...|  141.8996|/5fg98cVo7da7OIK4...|[{name -> NULL, i...|[{name -> United ...|  2025-03-27|         0|    123|[{name -> English...|Released|For everyone who'...|       The Life List|false|       6.817|       180|\n",
      "|false|/zvWnh0ABsJlco2ti...| {id -> NULL, name...|        0|[{name -> NULL, i...|https://epic-pict...|1249385|tt29341577|          [US]|               en|          Ghost Game|As part of an int...|  179.8428|/kxxWBEn7qTN2xumS...|[{name -> NULL, i...|[{name -> United ...|  2024-10-18|         0|     86|[{name -> English...|Released|    Evil lives here.|          Ghost Game|false|       3.176|        17|\n",
      "|false|/zOpe0eHsq0A2NvNy...| {backdrop_path ->...|122000000|[{name -> NULL, i...|https://www.sonic...| 939243|tt18259086|          [US]|               en|Sonic the Hedgehog 3|Sonic, Knuckles, ...|  152.2275|/d8Ryb8AunYAuycVK...|[{name -> NULL, i...|[{name -> United ...|  2024-12-19| 486018457|    110|[{name -> English...|Released|New adventure. Ne...|Sonic the Hedgehog 3|false|         7.8|      2335|\n",
      "|false|/xb9wpY31SeVZbfke...| {id -> NULL, name...|270000000|[{name -> NULL, i...|https://movies.di...| 447273| tt6208148|          [US]|               en|          Snow White|Princess Snow Whi...|  143.1516|/xWWg47tTfparvjK0...|[{name -> NULL, i...|[{name -> United ...|  2025-03-19| 168362470|    109|[{name -> English...|Released|The classic tale ...|          Snow White|false|       4.495|       502|\n",
      "+-----+--------------------+---------------------+---------+--------------------+--------------------+-------+----------+--------------+-----------------+--------------------+--------------------+----------+--------------------+--------------------+--------------------+------------+----------+-------+--------------------+--------+--------------------+--------------------+-----+------------+----------+\n",
      "only showing top 20 rows\n",
      "\n"
     ]
    },
    {
     "name": "stderr",
     "output_type": "stream",
     "text": [
      "                                                                                \r"
     ]
    }
   ],
   "source": [
    "cleaned_df.show()"
   ]
  },
  {
   "cell_type": "code",
   "execution_count": 28,
   "id": "deb75ab8",
   "metadata": {},
   "outputs": [],
   "source": [
    "cleaned_df.write.mode(\"overwrite\").format(\"parquet\").save(\"hdfs://namenode:8020/movies_data/sliver.parquet\")"
   ]
  },
  {
   "cell_type": "code",
   "execution_count": 29,
   "id": "ac31c2f6",
   "metadata": {},
   "outputs": [],
   "source": [
    "spark.stop()"
   ]
  }
 ],
 "metadata": {
  "kernelspec": {
   "display_name": "Python 3 (ipykernel)",
   "language": "python",
   "name": "python3"
  }
 },
 "nbformat": 4,
 "nbformat_minor": 5
}
