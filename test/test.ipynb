{
 "cells": [
  {
   "cell_type": "code",
   "execution_count": null,
   "id": "0fd21dac",
   "metadata": {},
   "outputs": [
    {
     "name": "stdout",
     "output_type": "stream",
     "text": [
      "{'success': False, 'status_code': 34, 'status_message': 'The resource you requested could not be found.'}\n"
     ]
    }
   ],
   "source": [
    "import requests\n",
    "\n",
    "\n",
    "def get_movie_data( list_movies_name, crawl_date = cur_date):\n",
    "    # \n",
    "    API_KEY = \"2d6e1b290dabf74f65b84431677db2b8\"\n",
    "    BASE_URL = \"https://api.themoviedb.org/3\"\n",
    "    END_POINT = \"/search/movie\"\n",
    "\n",
    "    movies_data = []\n",
    "    for name in list_movies_name:\n",
    "        params = {\n",
    "            'api_key': API_KEY,\n",
    "            'query': name,\n",
    "            'language': 'en-US',\n",
    "            'page': 1\n",
    "        }\n",
    "\n",
    "        url = f\"{BASE_URL}{END_POINT}\"\n",
    "        response = requests.get(url, params=params)\n",
    "\n",
    "        if response.status_code == 200:\n",
    "            movies_data.append({\n",
    "                \"Execution Date\"    :   cur_date,\n",
    "                \"Results\"            :   response.json().get('results'),\n",
    "            })\n",
    "        else:\n",
    "            raise TypeError(f\"Can't find movie {name}\")\n",
    "    \n",
    "    return pd.DataFrame(data= movies_data, columns=['Execction Date','Results'])\n",
    "\n"
   ]
  },
  {
   "cell_type": "code",
   "execution_count": 44,
   "id": "3aa8c0bb",
   "metadata": {},
   "outputs": [
    {
     "name": "stdout",
     "output_type": "stream",
     "text": [
      "{'page': 1, 'results': [{'adult': False, 'backdrop_path': '/ynE1VCMGSwzSDYJa56eI9Dv3wwd.jpg', 'genre_ids': [28, 80, 18, 10770], 'id': 1160877, 'original_language': 'en', 'original_title': 'Dog and Cat', 'overview': 'A veteran detective loses his partner in a shooting while they are investigating a gangster who is controlling the local porno rackets. He is stunned to discover that the new partner he is assigned is not only a rookie, but a female.', 'popularity': 0.3474, 'poster_path': '/f6Zkb16agOP0AOPzZBU5CZrAowh.jpg', 'release_date': '1977-07-22', 'title': 'Dog and Cat', 'video': False, 'vote_average': 0.0, 'vote_count': 0}, {'adult': False, 'backdrop_path': '/rUONctvx2KhEKSPz1ybzkwu0rP.jpg', 'genre_ids': [12, 35], 'id': 977331, 'original_language': 'fr', 'original_title': 'Chien et Chat', 'overview': 'While about to take off, Monica, the owner of a famous influencer cat named Diva, and Jack, an international thief whose dog Chichi swallowed a stolen ruby, dis- cover that their pets have gotten lost on the tarmac. The owners – and their pets – must team up to find their loved ones. But they don’t know that Brandt, a cop hot on their heels, will do anything to get his hands on the ruby!', 'popularity': 1.3947, 'poster_path': '/3SYqAvxQIddxY5Bd6sWV9Q9kMTw.jpg', 'release_date': '2024-02-14', 'title': 'Cat and Dog', 'video': False, 'vote_average': 6.1, 'vote_count': 94}, {'adult': False, 'backdrop_path': '/oDYtypyF2tFje6jTFiRzi3CIIOS.jpg', 'genre_ids': [16, 10751], 'id': 448515, 'original_language': 'ru', 'original_title': 'Пёс и кот', 'overview': \"A dog wants to buy a new hat from his local tailor (who is a cat). A story about why cats and dogs dosen't like each other.\", 'popularity': 0.1034, 'poster_path': '/62U67ScltzVJir0vvbX4F92B8C4.jpg', 'release_date': '1955-03-23', 'title': 'Dog and Cat', 'video': False, 'vote_average': 6.0, 'vote_count': 2}, {'adult': False, 'backdrop_path': '/tzKMLHjWmVWADktX3q2hRGEbnbX.jpg', 'genre_ids': [16, 10751], 'id': 439573, 'original_language': 'uk', 'original_title': 'Як песик і кошеня мили підлогу', 'overview': 'A cat and a dog lived together. They were very good friends, so when they saw that the floor in their house was dirty, they decided to clean up together. But an ordinary mop refused to deal with the task, so they have to wash and wipe the floor using each other. What will this novel idea lead to?', 'popularity': 0.182, 'poster_path': '/eB9kab56MwWdMERkLYWfZM8SGu3.jpg', 'release_date': '1977-01-02', 'title': 'How The Cat And The Dog Washed The Floor', 'video': False, 'vote_average': 7.0, 'vote_count': 1}, {'adult': False, 'backdrop_path': '/xu93K2h9Q58WqpLZrOiYwbsGIFK.jpg', 'genre_ids': [10770, 35, 18], 'id': 641569, 'original_language': 'fr', 'original_title': 'Temps de chien !', 'overview': 'Two down-on-their-luck strangers become improbable companions in misfortune.', 'popularity': 0.3623, 'poster_path': '/lTzYX1q99xV1rfQO89MaWl8QNqH.jpg', 'release_date': '2019-10-25', 'title': 'Raining Cats and Dogs', 'video': False, 'vote_average': 6.6, 'vote_count': 23}, {'adult': False, 'backdrop_path': None, 'genre_ids': [16], 'id': 253770, 'original_language': 'hy', 'original_title': 'Շունն ու կատուն', 'overview': 'This is a story about the origin of hostility between a cat and a dog. Based on the ballad of Hovhannes Tumanyan.', 'popularity': 0.1368, 'poster_path': '/tA6Cn3lZhvRQP1ui6Co6gs0B5yl.jpg', 'release_date': '1938-02-02', 'title': 'The Dog and the Cat', 'video': False, 'vote_average': 0.0, 'vote_count': 0}, {'adult': False, 'backdrop_path': '/2ots0UxqbOjqtMcjQL0M9MRCT02.jpg', 'genre_ids': [35, 18], 'id': 165780, 'original_language': 'ja', 'original_title': '犬猫', 'overview': 'Suzu lives with Furuta, her fiance, but one day she leaves home without saying a word. She moves into the apartment of her friend Abe, but he has gone abroad and Yoko now lives in his apartment. Suzu and Yoko, who have known each other since childhood and have both always loved Furuta, thus find themselves sharing the same home.', 'popularity': 0.1763, 'poster_path': '/kulRCTB6iDzncqsbhfCVGnbsfLn.jpg', 'release_date': '2004-12-04', 'title': 'Dogs & Cats', 'video': False, 'vote_average': 5.4, 'vote_count': 5}, {'adult': False, 'backdrop_path': '/70L71aGsIpidnrNTOcDVFozmWiA.jpg', 'genre_ids': [16], 'id': 823352, 'original_language': 'cs', 'original_title': 'O pejskovi a kočičce, jak psali psaní', 'overview': 'What happened to a dog and a cat when they decided to write a letter to the children about liking all the dogs and cats in the world. Evening adaptation of the tale from Čapkov Talking about a dog and a cat.', 'popularity': 0.1311, 'poster_path': '/wIZl01GqpNmDOih7UG7CIc4YItR.jpg', 'release_date': '1955-06-14', 'title': 'How a Dog And a Cat Used To Write', 'video': False, 'vote_average': 0.0, 'vote_count': 0}, {'adult': False, 'backdrop_path': '/mbGHm51KehUZIqlRt5hw2CSeA0z.jpg', 'genre_ids': [16], 'id': 1280836, 'original_language': 'hy', 'original_title': 'Շունն ու կատուն', 'overview': 'Winter is coming on, and a shepherd-dog goes to a cat-furrier to get a new hat made for himself. Instead he gets cheated, thus beginning the age-old feud between dogs and cats. Based on the poem by Hovhannes Tumanyan.', 'popularity': 0.0071, 'poster_path': '/5tCpPMzj7PDLwIGQA75lCXemH2D.jpg', 'release_date': '1975-04-07', 'title': 'The Dog and the Cat', 'video': False, 'vote_average': 0.0, 'vote_count': 0}, {'adult': False, 'backdrop_path': None, 'genre_ids': [16, 35], 'id': 240381, 'original_language': 'en', 'original_title': 'Dog, Cat, and Canary', 'overview': 'Oscar nominated Animated Short Cartoon', 'popularity': 0.0214, 'poster_path': '/6ZqoHdtSYNnrbmaddoowo0UIoEE.jpg', 'release_date': '1945-01-05', 'title': 'Dog, Cat, and Canary', 'video': False, 'vote_average': 5.3, 'vote_count': 7}, {'adult': False, 'backdrop_path': None, 'genre_ids': [10751, 18, 12], 'id': 1284375, 'original_language': 'ru', 'original_title': 'Дядя Федор, пес и кот', 'overview': ' ', 'popularity': 0.0377, 'poster_path': None, 'release_date': '', 'title': 'Uncle Fyodor, the Dog and the Cat', 'video': False, 'vote_average': 0.0, 'vote_count': 0}, {'adult': False, 'backdrop_path': '/r8PKGOAV3Slj5XuUSSQzqNP8AAr.jpg', 'genre_ids': [16], 'id': 454208, 'original_language': 'cs', 'original_title': 'Jak pejsek s kočičkou myli podlahu', 'overview': 'One day, a dog and a cat saw how filthy their house was. They decided to clean her up. It was quite a cleaning, until their heads were spinning and their paws hurt! And how did they do it? See for yourself...', 'popularity': 0.1271, 'poster_path': '/6paiiyEXQgqDoovzDR3DCkKBYsM.jpg', 'release_date': '1951-08-31', 'title': 'How a Dog And a Cat Washed The Floor', 'video': False, 'vote_average': 0.0, 'vote_count': 0}, {'adult': False, 'backdrop_path': None, 'genre_ids': [18, 10749], 'id': 289294, 'original_language': 'ko', 'original_title': '그 강아지 그 고양이', 'overview': 'Animator Woo-Joo and webtoon writer Bo-Eun each begin to raise a stray cat and a stray dog. They meet at a veterinary clinic and they soon begin to date. They think their relationship is different from other couples. Is their relationship okay?', 'popularity': 0.0873, 'poster_path': '/oHA3Z20JNZArkE2OVzLwWwwCVZj.jpg', 'release_date': '2013-12-12', 'title': 'Cats and Dogs', 'video': False, 'vote_average': 7.3, 'vote_count': 3}, {'adult': False, 'backdrop_path': '/68NnzsBIjQjw6Qt23mHgzZsqjTu.jpg', 'genre_ids': [16], 'id': 1398946, 'original_language': 'cs', 'original_title': 'O pejskovi a kočičce -Jak slavili 28. října', 'overview': 'How did the dog and the cat celebrate October 28? They went shopping together just to get a flag and commemorate the creation of independent Czechoslovakia. Dog and Cat celebrate 28th of October in this forgotten short.', 'popularity': 0.0, 'poster_path': '/eROgBCIIr4bmEdW85TQNZqV64bV.jpg', 'release_date': '1991-01-01', 'title': 'How Dog And a Cat Celebrated October 28', 'video': False, 'vote_average': 0.0, 'vote_count': 0}, {'adult': False, 'backdrop_path': '/hMj76yZoz1mDffE72ZOdXHeAVqu.jpg', 'genre_ids': [99], 'id': 1269660, 'original_language': 'xx', 'original_title': 'A Cat And Dog Life', 'overview': 'Dogs and cats go on show at two princely London venues – among them some of the fluffiest kittens London is ever likely to see.', 'popularity': 0.1458, 'poster_path': '/gMLsXBTWsawrOeKdN81n6jXl2GK.jpg', 'release_date': '1928-11-29', 'title': 'A Cat And Dog Life', 'video': False, 'vote_average': 0.0, 'vote_count': 0}, {'adult': False, 'backdrop_path': '/ayvnAyAsM4SVneO1FViuXsdhIxx.jpg', 'genre_ids': [18, 35], 'id': 548764, 'original_language': 'pl', 'original_title': 'Jak pies z kotem', 'overview': 'A vision of an unconventional family together with their conflicts and rivalry, a vision full of ironic sense of humour but also emotional moments and true closeness. When the elder brother, Andrzej, suddenly falls ill, despite their differences and a wall of misunderstandings that has grown between them, his younger brother is taking it upon himself to care for his brother in need.', 'popularity': 0.2853, 'poster_path': '/8vIUvWK5q852rrRNOsqPpUKOQjH.jpg', 'release_date': '2018-10-19', 'title': 'A Cat with a Dog', 'video': False, 'vote_average': 5.647, 'vote_count': 17}, {'adult': False, 'backdrop_path': None, 'genre_ids': [16], 'id': 359912, 'original_language': 'en', 'original_title': 'Rabbit Ears -  The Gingham Dog and the Calico Cat', 'overview': \"Your family will enjoy this endearing story about two Christmas presents, a dog and a cat, who fall out of Santa's sleigh. By working together—something that doesn't always come naturally—they find their way to their new home. And, through their example of love for one another, they bring harmony to an entire household.\", 'popularity': 0.0286, 'poster_path': None, 'release_date': '1991-09-14', 'title': 'Rabbit Ears -  The Gingham Dog and the Calico Cat', 'video': False, 'vote_average': 0.0, 'vote_count': 0}, {'adult': False, 'backdrop_path': None, 'genre_ids': [], 'id': 675498, 'original_language': 'ja', 'original_title': '犬猫', 'overview': 'Suzu lives with Furuta, her fiance, but one day she leaves home without saying a word. She moves into the apartment of her friend Abe, but he has gone abroad and Yoko now lives in his apartment. Suzu and Yoko, who have known each other since childhood and have both always loved Furuta, thus find themselves sharing the same home.', 'popularity': 0.0168, 'poster_path': '/rPZAQcFUwlnQPHroCZ38cwmZw71.jpg', 'release_date': '2002-03-23', 'title': 'Dogs & Cats', 'video': False, 'vote_average': 0.0, 'vote_count': 0}, {'adult': False, 'backdrop_path': None, 'genre_ids': [35], 'id': 824174, 'original_language': 'it', 'original_title': 'Cani e gatti', 'overview': 'In a village, the pharmacist and the innkeeper have an intense rivalry fuelled by the fact that they were once romantically involved many years before. To spite her rival, the innkeeper arranges to have her nephew set up a second pharmacy to take business away him. Unbeknownst to them a romance is developing between the younger generation of the families.', 'popularity': 0.2638, 'poster_path': '/8UWv6rQ7e6EZIXMcP71JR94Faym.jpg', 'release_date': '1952-10-15', 'title': 'Dogs and Cats', 'video': False, 'vote_average': 0.0, 'vote_count': 0}, {'adult': False, 'backdrop_path': None, 'genre_ids': [99], 'id': 1068727, 'original_language': 'en', 'original_title': 'Cats & Dogs', 'overview': 'In September 2022, Bengaluru made national news when the IT hub region of Bellandur faced major flooding resulting in a nightmare for all its residents. The idea of the film is to explore the two main factors contributing to this - the area’s topography and the rapid urbanization interfering with the natural water network - using visuals of a sprawling, developing metropolis contrasted with that of the chaos and breakdown of essential services that happened during the floods.', 'popularity': 0.6725, 'poster_path': '/j6tq3ybci8SGwX8BCmemrvPUtCC.jpg', 'release_date': '2023-01-08', 'title': 'Cats & Dogs', 'video': False, 'vote_average': 6.0, 'vote_count': 2}], 'total_pages': 2, 'total_results': 29}\n"
     ]
    }
   ],
   "source": [
    "import requests\n",
    "\n",
    "API_KEY = \"2d6e1b290dabf74f65b84431677db2b8\"  # Thay thế bằng API key thực của bạn\n",
    "BASE_URL = \"https://api.themoviedb.org/3\"\n",
    "\n",
    "def get_movie_data(API_KEY, BASE_URL, movie_name):\n",
    "    END_POINT = \"/search/movie\"\n",
    "    params = {\n",
    "        'api_key': API_KEY,\n",
    "        'query': movie_name,\n",
    "        'language': 'en-US',  # Có thể thay đổi ngôn ngữ\n",
    "        'page': 1\n",
    "    }\n",
    "    \n",
    "    url = f\"{BASE_URL}{END_POINT}\"\n",
    "    response = requests.get(url, params=params)\n",
    "    \n",
    "    if response.status_code == 200:\n",
    "        return response.json()\n",
    "    else:\n",
    "        print(f\"Error: {response.status_code}\")\n",
    "        return None\n",
    "\n",
    "# Sử dụng hàm\n",
    "data = get_movie_data(API_KEY=API_KEY, BASE_URL=BASE_URL, movie_name=\"Cat and Dog\")\n",
    "\n",
    "print(data)"
   ]
  }
 ],
 "metadata": {
  "kernelspec": {
   "display_name": "Python 3 (ipykernel)",
   "language": "python",
   "name": "python3"
  },
  "language_info": {
   "codemirror_mode": {
    "name": "ipython",
    "version": 3
   },
   "file_extension": ".py",
   "mimetype": "text/x-python",
   "name": "python",
   "nbconvert_exporter": "python",
   "pygments_lexer": "ipython3",
   "version": "3.11.6"
  }
 },
 "nbformat": 4,
 "nbformat_minor": 5
}
